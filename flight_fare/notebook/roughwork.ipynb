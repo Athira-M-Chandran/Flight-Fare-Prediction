{
 "cells": [
  {
   "cell_type": "code",
   "execution_count": 2,
   "metadata": {},
   "outputs": [],
   "source": [
    "import requests\n",
    "\n",
    "url=\"https://www.kaggle.com/datasets/nikhilmittal/flight-fare-prediction-mh/download\"\n",
    "\n",
    "r = requests.get(url)"
   ]
  },
  {
   "cell_type": "code",
   "execution_count": 3,
   "metadata": {},
   "outputs": [
    {
     "data": {
      "text/plain": [
       "{'Content-Type': 'text/html; charset=utf-8', 'Date': 'Tue, 12 Jul 2022 18:35:51 GMT', 'Cache-Control': 'no-cache, no-store', 'Content-Encoding': 'gzip', 'Pragma': 'no-cache', 'Set-Cookie': 'CSRF-TOKEN=CfDJ8LFWq2TYBfNJglsqkZKlX69qxVOqcDQzt1aSJ4UtjJBfxf_k4-CDgv7gMIoU7-ojAuko_0scWeoKY_clfymvSBaVrGSbAeY2gWN-CfF0Lw; path=/; secure; samesite=lax; httponly, XSRF-TOKEN=CfDJ8LFWq2TYBfNJglsqkZKlX685_7Pl4f2nA_OxswR2IHmDyL3VEDWaKygqyyRKnXhRXxmT1YJQ57ucFDorO2C7nL17e2WrgPBFZV0YCOARRlBjng; path=/; secure; samesite=lax, CLIENT-TOKEN=eyJhbGciOiJub25lIiwidHlwIjoiSldUIn0.eyJpc3MiOiJrYWdnbGUiLCJhdWQiOiJjbGllbnQiLCJzdWIiOm51bGwsIm5idCI6IjIwMjItMDctMTJUMTg6MzU6NTEuMTAwNjMzOFoiLCJpYXQiOiIyMDIyLTA3LTEyVDE4OjM1OjUxLjEwMDYzMzhaIiwianRpIjoiZDAyMjdhYjUtYTQ3Ny00NDJjLTlhMGItYzQ5ZTdjYjZlYzc3IiwiZXhwIjoiMjAyMi0wOC0xMlQxODozNTo1MS4xMDA2MzM4WiIsImFub24iOnRydWUsImZmIjpbIktlcm5lbHNTYXZlVG9HaXRIdWIiLCJLZXJuZWxzTHNwQXV0b2NvbXBsZXRlIiwiS2VybmVsc0RyYWZ0VXBsb2FkQmxvYiIsIkdjbG91ZEtlcm5lbEludGVnIiwiS2VybmVsVmlld2VyQ2xpZW50TG9hZGVkVGFncyIsIkNhaXBOdWRnZSIsIktlcm5lbHNGaXJlYmFzZUxvbmdQb2xsaW5nIiwiS2VybmVsc1N0YWNrT3ZlcmZsb3dTZWFyY2giLCJLZXJuZWxFZGl0b3JSZWZhY3RvcmVkU3VibWl0TW9kYWwiLCJLZXJuZWxzTWF0ZXJpYWxMaXN0aW5nIiwiQ29tbXVuaXR5S21JbWFnZVVwbG9hZGVyIiwiRGF0YXNldHNTaGFyZWRXaXRoWW91IiwiQ29tcGV0aXRpb25EYXRhc2V0cyIsIlRQVUNvbW1pdFNjaGVkdWxpbmciLCJBbGxvd0ZvcnVtQXR0YWNobWVudHMiLCJLTUxlYXJuRGV0YWlsIiwiRnJvbnRlbmRDb25zb2xlRXJyb3JSZXBvcnRpbmciLCJSZWdpc3RyYXRpb25OZXdzRW1haWxTaWdudXBJc09wdE91dCIsIlBob25lVmVyaWZ5Rm9yQ29tbWVudHMiLCJQaG9uZVZlcmlmeUZvck5ld1RvcGljIiwiSW5DbGFzc1RvQ29tbXVuaXR5UGFnZXMiLCJQaW5EYXRhc2V0VmVyc2lvbiIsIkNvbXBldGl0aW9uc0xQTXVsdGlsaW5lQ2hpcCJdLCJmZmQiOnsiS2VybmVsRWRpdG9yQXV0b3NhdmVUaHJvdHRsZU1zIjoiMzAwMDAiLCJGcm9udGVuZEVycm9yUmVwb3J0aW5nU2FtcGxlUmF0ZSI6IjAuMDEiLCJFbWVyZ2VuY3lBbGVydEJhbm5lciI6InsgfSIsIkNsaWVudFJwY1JhdGVMaW1pdCI6IjQwIiwiRmVhdHVyZWRDb21tdW5pdHlDb21wZXRpdGlvbnMiOiIzMzYxMSwzMzY4OSwzNDE4OSwzNTAzNywzNTQyNywzNTI5MSwgMzU3OTcsIDM1NzY4LCAzNTMyNSwgMzU0MjksIDM0OTA5LCAzMzU3OSwzNzA2OSwzNjE2MSIsIkFkZEZlYXR1cmVGbGFnc1RvUGFnZUxvYWRUYWciOiJkYXRhc2V0c01hdGVyaWFsRGV0YWlsIn0sInBpZCI6ImthZ2dsZS0xNjE2MDciLCJzdmMiOiJ3ZWItZmUiLCJzZGFrIjoiQUl6YVN5QTRlTnFVZFJSc2tKc0NaV1Z6LXFMNjU1WGE1SkVNcmVFIiwiYmxkIjoiMzQ4ZDYyMmViOWQ5NWJjMTFkZTk4YTc0NGQ5NDM2NWI5NTY4MjRmOSJ9.; path=/; secure; samesite=lax', 'Vary': 'Accept-Encoding', 'Turbolinks-Location': 'https://www.kaggle.com/account/login?titleType=dataset-downloads&showDatasetDownloadSkip=False&messageId=datasetsWelcome&returnUrl=%2Fdatasets%2Fnikhilmittal%2Fflight-fare-prediction-mh%3Fresource%3Ddownload', 'X-Frame-Options': 'SAMEORIGIN', 'Strict-Transport-Security': 'max-age=63072000; includeSubDomains; preload', 'Content-Security-Policy': \"object-src 'none'; script-src 'nonce-zYja0ot1AiDzrgGAcUTnsw==' 'report-sample' 'unsafe-inline' 'unsafe-eval' 'strict-dynamic' https: http:; frame-src 'self' https://www.kaggleusercontent.com https://www.youtube.com/embed/ https://polygraph-cool.github.io https://www.google.com/recaptcha/ https://form.jotform.com https://submit.jotform.us https://submit.jotformpro.com https://submit.jotform.com https://www.docdroid.com https://www.docdroid.net https://kaggle-static.storage.googleapis.com https://kaggle-static-staging.storage.googleapis.com https://kkb-dev.jupyter-proxy.kaggle.net https://kkb-staging.jupyter-proxy.kaggle.net https://kkb-production.jupyter-proxy.kaggle.net https://kkb-dev.firebaseapp.com https://kkb-staging.firebaseapp.com https://kkb-production.firebaseapp.com https://kaggle-metastore-test.firebaseapp.com https://kaggle-metastore.firebaseapp.com https://apis.google.com https://content-sheets.googleapis.com/ https://accounts.google.com/ https://storage.googleapis.com https://docs.google.com https://drive.google.com; base-uri 'none'; report-uri https://csp.withgoogle.com/csp/kaggle/20201130;\", 'X-Content-Type-Options': 'nosniff', 'Referrer-Policy': 'strict-origin-when-cross-origin', 'Via': '1.1 google', 'Alt-Svc': 'h3=\":443\"; ma=2592000,h3-29=\":443\"; ma=2592000', 'Transfer-Encoding': 'chunked'}"
      ]
     },
     "execution_count": 3,
     "metadata": {},
     "output_type": "execute_result"
    }
   ],
   "source": [
    "r.headers"
   ]
  },
  {
   "cell_type": "code",
   "execution_count": null,
   "metadata": {},
   "outputs": [],
   "source": []
  }
 ],
 "metadata": {
  "interpreter": {
   "hash": "0223e396efe5cb2d7dcb935078ede287492ec7a8b6bb3521302aadf23d082536"
  },
  "kernelspec": {
   "display_name": "Python 3.8.8 ('base')",
   "language": "python",
   "name": "python3"
  },
  "language_info": {
   "codemirror_mode": {
    "name": "ipython",
    "version": 3
   },
   "file_extension": ".py",
   "mimetype": "text/x-python",
   "name": "python",
   "nbconvert_exporter": "python",
   "pygments_lexer": "ipython3",
   "version": "3.8.8"
  },
  "orig_nbformat": 4
 },
 "nbformat": 4,
 "nbformat_minor": 2
}
