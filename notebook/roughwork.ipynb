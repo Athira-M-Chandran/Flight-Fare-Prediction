{
 "cells": [
  {
   "cell_type": "code",
   "execution_count": 1,
   "metadata": {},
   "outputs": [],
   "source": [
    "import os"
   ]
  },
  {
   "cell_type": "code",
   "execution_count": 3,
   "metadata": {},
   "outputs": [
    {
     "data": {
      "text/plain": [
       "['roughwork.ipynb']"
      ]
     },
     "execution_count": 3,
     "metadata": {},
     "output_type": "execute_result"
    }
   ],
   "source": [
    "os.listdir(\".\")"
   ]
  },
  {
   "cell_type": "code",
   "execution_count": 4,
   "metadata": {},
   "outputs": [
    {
     "data": {
      "text/plain": [
       "'c:\\\\Users\\\\athir\\\\OneDrive\\\\Documents\\\\Internship\\\\Flight fare prediction\\\\Flight-Fare-Prediction\\\\notebook'"
      ]
     },
     "execution_count": 4,
     "metadata": {},
     "output_type": "execute_result"
    }
   ],
   "source": [
    "os.getcwd()"
   ]
  },
  {
   "cell_type": "code",
   "execution_count": 9,
   "metadata": {},
   "outputs": [],
   "source": [
    "file_path = \"c:\\\\Users\\\\athir\\\\OneDrive\\\\Documents\\\\Internship\\\\Flight fare prediction\\\\Flight-Fare-Prediction\\\\config\"\n",
    "config_file_path = os.path.join(file_path,\"config.yaml\")"
   ]
  },
  {
   "cell_type": "code",
   "execution_count": 10,
   "metadata": {},
   "outputs": [
    {
     "data": {
      "text/plain": [
       "'c:\\\\Users\\\\athir\\\\OneDrive\\\\Documents\\\\Internship\\\\Flight fare prediction\\\\Flight-Fare-Prediction\\\\config\\\\config.yaml'"
      ]
     },
     "execution_count": 10,
     "metadata": {},
     "output_type": "execute_result"
    }
   ],
   "source": [
    "config_file_path"
   ]
  },
  {
   "cell_type": "code",
   "execution_count": 11,
   "metadata": {},
   "outputs": [
    {
     "data": {
      "text/plain": [
       "True"
      ]
     },
     "execution_count": 11,
     "metadata": {},
     "output_type": "execute_result"
    }
   ],
   "source": [
    "os.path.exists(config_file_path)"
   ]
  },
  {
   "cell_type": "code",
   "execution_count": 1,
   "metadata": {},
   "outputs": [],
   "source": [
    "train_download_url = \"https://github.com/Athira-M-Chandran/Datasets/blob/main/Flight%20Fare%20Predictions/Data_Train.xlsx?raw=true\""
   ]
  },
  {
   "cell_type": "code",
   "execution_count": 4,
   "metadata": {},
   "outputs": [
    {
     "data": {
      "text/plain": [
       "'Data_Train.xlsx'"
      ]
     },
     "execution_count": 4,
     "metadata": {},
     "output_type": "execute_result"
    }
   ],
   "source": [
    "os.path.basename(train_download_url).split(\"?\")[0]"
   ]
  },
  {
   "cell_type": "code",
   "execution_count": null,
   "metadata": {},
   "outputs": [],
   "source": []
  },
  {
   "cell_type": "code",
   "execution_count": 13,
   "metadata": {},
   "outputs": [],
   "source": [
    "raw_data_dir = r\"C:\\Users\\athir\\OneDrive\\Documents\\Internship\\Flight fare prediction\\Flight-Fare-Prediction\\flight_fare\\artifact\\data_ingestion\\2022-07-18-22-12-20\\raw_data\"\n"
   ]
  },
  {
   "cell_type": "code",
   "execution_count": 14,
   "metadata": {},
   "outputs": [
    {
     "data": {
      "text/plain": [
       "'Data_Train.xlsx'"
      ]
     },
     "execution_count": 14,
     "metadata": {},
     "output_type": "execute_result"
    }
   ],
   "source": [
    "os.listdir(raw_data_dir)[0]"
   ]
  },
  {
   "cell_type": "code",
   "execution_count": 17,
   "metadata": {},
   "outputs": [],
   "source": [
    "train_file_path = r\"C:\\Users\\athir\\OneDrive\\Documents\\Internship\\Flight fare prediction\\Flight-Fare-Prediction\\flight_fare\\artifact\\data_ingestion\\2022-07-18-22-12-20\\raw_data\\Data_Train.xlsx\"\n"
   ]
  },
  {
   "cell_type": "code",
   "execution_count": 20,
   "metadata": {},
   "outputs": [],
   "source": [
    "import pandas as pd\n",
    "d1 = pd.read_excel(train_file_path)\n",
    "d1.to_csv(\"train.csv\",index = False)\n",
    "df = pd.DataFrame(pd.read_csv(\"train.csv\"))"
   ]
  },
  {
   "cell_type": "code",
   "execution_count": 32,
   "metadata": {},
   "outputs": [],
   "source": []
  },
  {
   "cell_type": "code",
   "execution_count": 33,
   "metadata": {},
   "outputs": [],
   "source": [
    "df = pd.DataFrame(pd.read_csv(\"train.csv\"))"
   ]
  },
  {
   "cell_type": "code",
   "execution_count": 35,
   "metadata": {},
   "outputs": [
    {
     "data": {
      "text/html": [
       "<div>\n",
       "<style scoped>\n",
       "    .dataframe tbody tr th:only-of-type {\n",
       "        vertical-align: middle;\n",
       "    }\n",
       "\n",
       "    .dataframe tbody tr th {\n",
       "        vertical-align: top;\n",
       "    }\n",
       "\n",
       "    .dataframe thead th {\n",
       "        text-align: right;\n",
       "    }\n",
       "</style>\n",
       "<table border=\"1\" class=\"dataframe\">\n",
       "  <thead>\n",
       "    <tr style=\"text-align: right;\">\n",
       "      <th></th>\n",
       "      <th>Airline</th>\n",
       "      <th>Date_of_Journey</th>\n",
       "      <th>Source</th>\n",
       "      <th>Destination</th>\n",
       "      <th>Route</th>\n",
       "      <th>Dep_Time</th>\n",
       "      <th>Arrival_Time</th>\n",
       "      <th>Duration</th>\n",
       "      <th>Total_Stops</th>\n",
       "      <th>Additional_Info</th>\n",
       "      <th>Price</th>\n",
       "    </tr>\n",
       "  </thead>\n",
       "  <tbody>\n",
       "    <tr>\n",
       "      <th>0</th>\n",
       "      <td>IndiGo</td>\n",
       "      <td>24/03/2019</td>\n",
       "      <td>Banglore</td>\n",
       "      <td>New Delhi</td>\n",
       "      <td>BLR → DEL</td>\n",
       "      <td>22:20</td>\n",
       "      <td>01:10 22 Mar</td>\n",
       "      <td>2h 50m</td>\n",
       "      <td>non-stop</td>\n",
       "      <td>No info</td>\n",
       "      <td>3897</td>\n",
       "    </tr>\n",
       "    <tr>\n",
       "      <th>1</th>\n",
       "      <td>Air India</td>\n",
       "      <td>1/05/2019</td>\n",
       "      <td>Kolkata</td>\n",
       "      <td>Banglore</td>\n",
       "      <td>CCU → IXR → BBI → BLR</td>\n",
       "      <td>05:50</td>\n",
       "      <td>13:15</td>\n",
       "      <td>7h 25m</td>\n",
       "      <td>2 stops</td>\n",
       "      <td>No info</td>\n",
       "      <td>7662</td>\n",
       "    </tr>\n",
       "    <tr>\n",
       "      <th>2</th>\n",
       "      <td>Jet Airways</td>\n",
       "      <td>9/06/2019</td>\n",
       "      <td>Delhi</td>\n",
       "      <td>Cochin</td>\n",
       "      <td>DEL → LKO → BOM → COK</td>\n",
       "      <td>09:25</td>\n",
       "      <td>04:25 10 Jun</td>\n",
       "      <td>19h</td>\n",
       "      <td>2 stops</td>\n",
       "      <td>No info</td>\n",
       "      <td>13882</td>\n",
       "    </tr>\n",
       "    <tr>\n",
       "      <th>3</th>\n",
       "      <td>IndiGo</td>\n",
       "      <td>12/05/2019</td>\n",
       "      <td>Kolkata</td>\n",
       "      <td>Banglore</td>\n",
       "      <td>CCU → NAG → BLR</td>\n",
       "      <td>18:05</td>\n",
       "      <td>23:30</td>\n",
       "      <td>5h 25m</td>\n",
       "      <td>1 stop</td>\n",
       "      <td>No info</td>\n",
       "      <td>6218</td>\n",
       "    </tr>\n",
       "    <tr>\n",
       "      <th>4</th>\n",
       "      <td>IndiGo</td>\n",
       "      <td>01/03/2019</td>\n",
       "      <td>Banglore</td>\n",
       "      <td>New Delhi</td>\n",
       "      <td>BLR → NAG → DEL</td>\n",
       "      <td>16:50</td>\n",
       "      <td>21:35</td>\n",
       "      <td>4h 45m</td>\n",
       "      <td>1 stop</td>\n",
       "      <td>No info</td>\n",
       "      <td>13302</td>\n",
       "    </tr>\n",
       "  </tbody>\n",
       "</table>\n",
       "</div>"
      ],
      "text/plain": [
       "       Airline Date_of_Journey    Source Destination                  Route  \\\n",
       "0       IndiGo      24/03/2019  Banglore   New Delhi              BLR → DEL   \n",
       "1    Air India       1/05/2019   Kolkata    Banglore  CCU → IXR → BBI → BLR   \n",
       "2  Jet Airways       9/06/2019     Delhi      Cochin  DEL → LKO → BOM → COK   \n",
       "3       IndiGo      12/05/2019   Kolkata    Banglore        CCU → NAG → BLR   \n",
       "4       IndiGo      01/03/2019  Banglore   New Delhi        BLR → NAG → DEL   \n",
       "\n",
       "  Dep_Time  Arrival_Time Duration Total_Stops Additional_Info  Price  \n",
       "0    22:20  01:10 22 Mar   2h 50m    non-stop         No info   3897  \n",
       "1    05:50         13:15   7h 25m     2 stops         No info   7662  \n",
       "2    09:25  04:25 10 Jun      19h     2 stops         No info  13882  \n",
       "3    18:05         23:30   5h 25m      1 stop         No info   6218  \n",
       "4    16:50         21:35   4h 45m      1 stop         No info  13302  "
      ]
     },
     "execution_count": 35,
     "metadata": {},
     "output_type": "execute_result"
    }
   ],
   "source": [
    "df.head()"
   ]
  },
  {
   "cell_type": "code",
   "execution_count": 36,
   "metadata": {},
   "outputs": [
    {
     "data": {
      "text/plain": [
       "Airline            object\n",
       "Date_of_Journey    object\n",
       "Source             object\n",
       "Destination        object\n",
       "Route              object\n",
       "Dep_Time           object\n",
       "Arrival_Time       object\n",
       "Duration           object\n",
       "Total_Stops        object\n",
       "Additional_Info    object\n",
       "Price               int64\n",
       "dtype: object"
      ]
     },
     "execution_count": 36,
     "metadata": {},
     "output_type": "execute_result"
    }
   ],
   "source": [
    "df.dtypes"
   ]
  },
  {
   "cell_type": "code",
   "execution_count": 37,
   "metadata": {},
   "outputs": [
    {
     "name": "stdout",
     "output_type": "stream",
     "text": [
      "Airline              12\n",
      "Date_of_Journey      44\n",
      "Source                5\n",
      "Destination           6\n",
      "Route               128\n",
      "Dep_Time            222\n",
      "Arrival_Time       1343\n",
      "Duration            368\n",
      "Total_Stops           5\n",
      "Additional_Info      10\n",
      "Price              1870\n",
      "dtype: int64\n"
     ]
    }
   ],
   "source": [
    "print(df.nunique())"
   ]
  },
  {
   "cell_type": "code",
   "execution_count": 40,
   "metadata": {},
   "outputs": [
    {
     "name": "stdout",
     "output_type": "stream",
     "text": [
      "['IndiGo' 'Air India' 'Jet Airways' 'SpiceJet' 'Multiple carriers' 'GoAir'\n",
      " 'Vistara' 'Air Asia' 'Vistara Premium economy' 'Jet Airways Business'\n",
      " 'Multiple carriers Premium economy' 'Trujet']\n",
      "['Banglore' 'Kolkata' 'Delhi' 'Chennai' 'Mumbai']\n",
      "['New Delhi' 'Banglore' 'Cochin' 'Kolkata' 'Delhi' 'Hyderabad']\n",
      "['non-stop' '2 stops' '1 stop' '3 stops' nan '4 stops']\n"
     ]
    }
   ],
   "source": [
    "print(df.Airline.unique())\n",
    "print(df.Source.unique())\n",
    "print(df.Destination.unique())\n",
    "print(df.Total_Stops.unique())"
   ]
  },
  {
   "cell_type": "code",
   "execution_count": 75,
   "metadata": {},
   "outputs": [],
   "source": [
    "train_file_path = r\"C:\\Users\\athir\\OneDrive\\Documents\\Internship\\Flight fare prediction\\Flight-Fare-Prediction\\flight_fare\\artifact\\data_ingestion\\2022-07-19-17-42-46\\ingested_data\\train\\Data_Train.xlsx\"\n",
    "test_file_path = r\"C:\\Users\\athir\\OneDrive\\Documents\\Internship\\Flight fare prediction\\Flight-Fare-Prediction\\flight_fare\\artifact\\data_ingestion\\2022-07-19-17-42-46\\ingested_data\\test\\Test_set.xlsx\"\n",
    "sample_file_path = r\"C:\\Users\\athir\\OneDrive\\Documents\\Internship\\Flight fare prediction\\Flight-Fare-Prediction\\flight_fare\\artifact\\data_ingestion\\2022-07-19-17-42-46\\ingested_data\\sample\\Sample_submission.xlsx\"\n"
   ]
  },
  {
   "cell_type": "code",
   "execution_count": 76,
   "metadata": {},
   "outputs": [
    {
     "name": "stdout",
     "output_type": "stream",
     "text": [
      "Requirement already satisfied: evidently in c:\\users\\athir\\anaconda3\\lib\\site-packages (0.1.53.dev0)Note: you may need to restart the kernel to use updated packages.\n",
      "\n",
      "Requirement already satisfied: dataclasses>=0.6 in c:\\users\\athir\\anaconda3\\lib\\site-packages (from evidently) (0.6)\n",
      "Requirement already satisfied: PyYAML~=5.1 in c:\\users\\athir\\anaconda3\\lib\\site-packages (from evidently) (5.4.1)\n",
      "Requirement already satisfied: numpy>=1.19.5 in c:\\users\\athir\\anaconda3\\lib\\site-packages (from evidently) (1.20.1)\n",
      "Requirement already satisfied: requests>=2.19.0 in c:\\users\\athir\\anaconda3\\lib\\site-packages (from evidently) (2.24.0)\n",
      "Requirement already satisfied: scikit-learn>=0.24.0 in c:\\users\\athir\\anaconda3\\lib\\site-packages (from evidently) (0.24.1)\n",
      "Requirement already satisfied: plotly>=5.5.0 in c:\\users\\athir\\anaconda3\\lib\\site-packages (from evidently) (5.6.0)\n",
      "Requirement already satisfied: statsmodels>=0.12.2 in c:\\users\\athir\\anaconda3\\lib\\site-packages (from evidently) (0.12.2)\n",
      "Requirement already satisfied: pandas>=1.1.5 in c:\\users\\athir\\anaconda3\\lib\\site-packages (from evidently) (1.2.4)\n",
      "Requirement already satisfied: scipy>=1.5.4 in c:\\users\\athir\\anaconda3\\lib\\site-packages (from evidently) (1.6.2)\n",
      "Requirement already satisfied: pytz>=2017.3 in c:\\users\\athir\\anaconda3\\lib\\site-packages (from pandas>=1.1.5->evidently) (2021.1)\n",
      "Requirement already satisfied: python-dateutil>=2.7.3 in c:\\users\\athir\\anaconda3\\lib\\site-packages (from pandas>=1.1.5->evidently) (2.8.1)\n",
      "Requirement already satisfied: six in c:\\users\\athir\\anaconda3\\lib\\site-packages (from plotly>=5.5.0->evidently) (1.15.0)\n",
      "Requirement already satisfied: tenacity>=6.2.0 in c:\\users\\athir\\anaconda3\\lib\\site-packages (from plotly>=5.5.0->evidently) (8.0.1)\n",
      "Requirement already satisfied: certifi>=2017.4.17 in c:\\users\\athir\\anaconda3\\lib\\site-packages (from requests>=2.19.0->evidently) (2020.6.20)\n",
      "Requirement already satisfied: idna<3,>=2.5 in c:\\users\\athir\\anaconda3\\lib\\site-packages (from requests>=2.19.0->evidently) (2.10)\n",
      "Requirement already satisfied: chardet<4,>=3.0.2 in c:\\users\\athir\\anaconda3\\lib\\site-packages (from requests>=2.19.0->evidently) (3.0.4)\n",
      "Requirement already satisfied: urllib3!=1.25.0,!=1.25.1,<1.26,>=1.21.1 in c:\\users\\athir\\anaconda3\\lib\\site-packages (from requests>=2.19.0->evidently) (1.25.10)\n",
      "Requirement already satisfied: threadpoolctl>=2.0.0 in c:\\users\\athir\\anaconda3\\lib\\site-packages (from scikit-learn>=0.24.0->evidently) (2.1.0)\n",
      "Requirement already satisfied: joblib>=0.11 in c:\\users\\athir\\anaconda3\\lib\\site-packages (from scikit-learn>=0.24.0->evidently) (1.0.1)\n",
      "Requirement already satisfied: patsy>=0.5 in c:\\users\\athir\\anaconda3\\lib\\site-packages (from statsmodels>=0.12.2->evidently) (0.5.1)\n"
     ]
    }
   ],
   "source": [
    "pip install evidently"
   ]
  },
  {
   "cell_type": "code",
   "execution_count": 77,
   "metadata": {},
   "outputs": [],
   "source": [
    "\n",
    "from evidently.model_profile import Profile\n",
    "from evidently.model_profile.sections import DataDriftProfileSection\n",
    "from evidently.dashboard import Dashboard\n",
    "from evidently.dashboard.tabs import DataDriftTab\n",
    "import json"
   ]
  },
  {
   "cell_type": "code",
   "execution_count": 78,
   "metadata": {},
   "outputs": [],
   "source": [
    "d2 = pd.read_excel(train_file_path)\n",
    "d3 = pd.read_excel(test_file_path)\n",
    "d4 = pd.read_excel(sample_file_path)\n",
    "\n"
   ]
  },
  {
   "cell_type": "code",
   "execution_count": 79,
   "metadata": {},
   "outputs": [],
   "source": [
    "d5 = pd.concat([d3, d4], axis=1)\n",
    "\n"
   ]
  },
  {
   "cell_type": "code",
   "execution_count": 80,
   "metadata": {},
   "outputs": [],
   "source": [
    "profile = Profile(sections=[DataDriftProfileSection()])"
   ]
  },
  {
   "cell_type": "code",
   "execution_count": 81,
   "metadata": {},
   "outputs": [
    {
     "name": "stdout",
     "output_type": "stream",
     "text": [
      "       Airline Date_of_Journey    Source Destination                  Route  \\\n",
      "0       IndiGo      24/03/2019  Banglore   New Delhi              BLR → DEL   \n",
      "1    Air India       1/05/2019   Kolkata    Banglore  CCU → IXR → BBI → BLR   \n",
      "2  Jet Airways       9/06/2019     Delhi      Cochin  DEL → LKO → BOM → COK   \n",
      "3       IndiGo      12/05/2019   Kolkata    Banglore        CCU → NAG → BLR   \n",
      "4       IndiGo      01/03/2019  Banglore   New Delhi        BLR → NAG → DEL   \n",
      "\n",
      "  Dep_Time  Arrival_Time Duration Total_Stops Additional_Info  Price  \n",
      "0    22:20  01:10 22 Mar   2h 50m    non-stop         No info   3897  \n",
      "1    05:50         13:15   7h 25m     2 stops         No info   7662  \n",
      "2    09:25  04:25 10 Jun      19h     2 stops         No info  13882  \n",
      "3    18:05         23:30   5h 25m      1 stop         No info   6218  \n",
      "4    16:50         21:35   4h 45m      1 stop         No info  13302  \n",
      "             Airline Date_of_Journey    Source Destination            Route  \\\n",
      "0        Jet Airways       6/06/2019     Delhi      Cochin  DEL → BOM → COK   \n",
      "1             IndiGo      12/05/2019   Kolkata    Banglore  CCU → MAA → BLR   \n",
      "2        Jet Airways      21/05/2019     Delhi      Cochin  DEL → BOM → COK   \n",
      "3  Multiple carriers      21/05/2019     Delhi      Cochin  DEL → BOM → COK   \n",
      "4           Air Asia      24/06/2019  Banglore       Delhi        BLR → DEL   \n",
      "\n",
      "  Dep_Time  Arrival_Time Duration Total_Stops              Additional_Info  \\\n",
      "0    17:30  04:25 07 Jun  10h 55m      1 stop                      No info   \n",
      "1    06:20         10:20       4h      1 stop                      No info   \n",
      "2    19:15  19:00 22 May  23h 45m      1 stop  In-flight meal not included   \n",
      "3    08:00         21:00      13h      1 stop                      No info   \n",
      "4    23:55  02:45 25 Jun   2h 50m    non-stop                      No info   \n",
      "\n",
      "   Price  \n",
      "0  15998  \n",
      "1  16612  \n",
      "2  25572  \n",
      "3  25778  \n",
      "4  16934  \n"
     ]
    }
   ],
   "source": [
    "print(d2.head())\n",
    "print(d5.head())"
   ]
  },
  {
   "cell_type": "code",
   "execution_count": 82,
   "metadata": {},
   "outputs": [],
   "source": [
    "profile.calculate(d2,d5)\n",
    "\n",
    "\n"
   ]
  },
  {
   "cell_type": "code",
   "execution_count": null,
   "metadata": {},
   "outputs": [],
   "source": [
    "report = json.loads(profile.json())"
   ]
  }
 ],
 "metadata": {
  "interpreter": {
   "hash": "0223e396efe5cb2d7dcb935078ede287492ec7a8b6bb3521302aadf23d082536"
  },
  "kernelspec": {
   "display_name": "Python 3.8.8 ('base')",
   "language": "python",
   "name": "python3"
  },
  "language_info": {
   "codemirror_mode": {
    "name": "ipython",
    "version": 3
   },
   "file_extension": ".py",
   "mimetype": "text/x-python",
   "name": "python",
   "nbconvert_exporter": "python",
   "pygments_lexer": "ipython3",
   "version": "3.8.8"
  },
  "orig_nbformat": 4
 },
 "nbformat": 4,
 "nbformat_minor": 2
}
